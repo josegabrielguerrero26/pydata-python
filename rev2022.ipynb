{
 "cells": [
  {
   "attachments": {},
   "cell_type": "markdown",
   "metadata": {},
   "source": [
    "REV 2022/ Analysis\n"
   ]
  },
  {
   "cell_type": "code",
   "execution_count": 112,
   "metadata": {},
   "outputs": [],
   "source": [
    "import numpy as np\n",
    "import matplotlib.pyplot as plt\n",
    "import pandas as pd\n",
    "import seaborn as sns\n",
    "import statsmodels as sm\n",
    "\n",
    "def style (op):\n",
    "        result = f'${op:,.2f}'\n",
    "        return result\n",
    "pd.options.display.float_format = '${:,.2f}'.format"
   ]
  },
  {
   "cell_type": "code",
   "execution_count": 11,
   "metadata": {},
   "outputs": [
    {
     "data": {
      "text/plain": [
       "BRAND            310369\n",
       "status           310369\n",
       "dbr_date_out     310369\n",
       "dbr_date         310369\n",
       "loc_out          310369\n",
       "                  ...  \n",
       "iva_chg          310369\n",
       "rpt_as_rev       310369\n",
       "other_chg        310369\n",
       "EST_TOTAL        310369\n",
       "GROSS_REVENUE    310369\n",
       "Length: 110, dtype: int64"
      ]
     },
     "execution_count": 11,
     "metadata": {},
     "output_type": "execute_result"
    }
   ],
   "source": [
    "rev1=pd.read_csv(\"D:/OneDrive - AVASA/Standarize Folders/Rev2022 (1 enero al 30 junio).csv\")\n",
    "rev1=pd.DataFrame(rev1)\n",
    "rev1.count()"
   ]
  },
  {
   "cell_type": "code",
   "execution_count": 12,
   "metadata": {},
   "outputs": [
    {
     "data": {
      "text/plain": [
       "status           316063\n",
       "dbr_date_out     316063\n",
       "dbr_date         316063\n",
       "loc_out          316063\n",
       "LOCACION_in      316063\n",
       "                  ...  \n",
       "iva_chg          316063\n",
       "rpt_as_rev       316063\n",
       "other_chg        316063\n",
       "EST_TOTAL        316063\n",
       "GROSS_REVENUE    316063\n",
       "Length: 109, dtype: int64"
      ]
     },
     "execution_count": 12,
     "metadata": {},
     "output_type": "execute_result"
    }
   ],
   "source": [
    "rev2=pd.read_csv(\"D:\\OneDrive - AVASA\\Standarize Folders\\Rev2022 (1 julio al 29 diciembre).csv\")\n",
    "rev2=pd.DataFrame(rev2)\n",
    "rev2.count()"
   ]
  },
  {
   "cell_type": "code",
   "execution_count": 9,
   "metadata": {},
   "outputs": [
    {
     "data": {
      "text/plain": [
       "['BRAND',\n",
       " 'status',\n",
       " 'dbr_date_out',\n",
       " 'dbr_date',\n",
       " 'loc_out',\n",
       " 'LOCACION_in',\n",
       " 'empl_out',\n",
       " 'gate_agent',\n",
       " 'number',\n",
       " 'Prep_Fuel',\n",
       " 'res_no',\n",
       " 'rulefl_prod',\n",
       " 'source_code',\n",
       " 'CLOSE_MISC',\n",
       " 'veh_class',\n",
       " 'veh_class.1',\n",
       " 'ECONOMICO',\n",
       " 'MODEL',\n",
       " 'cdpid',\n",
       " 'CORP_Name',\n",
       " 'RA_Points',\n",
       " 'Odom_in',\n",
       " 'Odom_out',\n",
       " 'Last_Name',\n",
       " 'rent_days',\n",
       " 'dbr_days',\n",
       " 'bun_time_chg',\n",
       " 'unbun_time_chg',\n",
       " 'ret_inc_chg',\n",
       " 'vch_inc_chg',\n",
       " 'mile_chg',\n",
       " 'disc_chg',\n",
       " 'csadj_chg',\n",
       " 'promo_chg',\n",
       " 'estimate',\n",
       " 'age24_chg',\n",
       " 'baby_chg',\n",
       " 'movpk_chg',\n",
       " 'cccp_chg',\n",
       " 'cvg2_chg',\n",
       " 'cvg3_chg',\n",
       " 'cvg4_chg',\n",
       " 'cvg5_chg',\n",
       " 'cvg6_chg',\n",
       " 'delco_chg',\n",
       " 'drivr_chg',\n",
       " 'fpfee_chg',\n",
       " 'drop_chg',\n",
       " 'fuel_chg',\n",
       " 'ppd_fuel_chg',\n",
       " 'ldwba_chg',\n",
       " 'ldwpl_chg',\n",
       " 'ldwpr_chg',\n",
       " 'ldwc1_chg',\n",
       " 'ldwc9_chg',\n",
       " 'cvg7_chg',\n",
       " 'cotg_chg',\n",
       " 'icem_chg',\n",
       " 'icem2_chg',\n",
       " 'safe_chg',\n",
       " 'prert_chg',\n",
       " 'presr_chg',\n",
       " 'gopro_chg',\n",
       " 'tag_chg',\n",
       " 'scand_chg',\n",
       " 'hsp_chg',\n",
       " 'tvlpk_chg',\n",
       " 'self_chg',\n",
       " 'ldw0_chg',\n",
       " 'ldw1_chg',\n",
       " 'ldw10_chg',\n",
       " 'ldw11_chg',\n",
       " 'ldw12_chg',\n",
       " 'ldw14_chg',\n",
       " 'ldw2_chg',\n",
       " 'ldw3_chg',\n",
       " 'ldw4_chg',\n",
       " 'ldw6_chg',\n",
       " 'ldw7_chg',\n",
       " 'ldw8_chg',\n",
       " 'ldw9_chg',\n",
       " 'ldw15_chg',\n",
       " 'ldw18_chg',\n",
       " 'ldw16_chg',\n",
       " 'cdwbd_chg',\n",
       " 'ldwf1_chg',\n",
       " 'ldwf2_chg',\n",
       " 'ldwf3_chg',\n",
       " 'ldwf4_chg',\n",
       " 'ldwf5_chg',\n",
       " 'ldwf6_chg',\n",
       " 'ldwfh_chg',\n",
       " 'dwf_chg',\n",
       " 'night_chg',\n",
       " 'asist_chg',\n",
       " 'nvl_chg',\n",
       " 'gps_chg',\n",
       " 'mult_chg',\n",
       " 'pra_chg',\n",
       " 'upgd_chg',\n",
       " 'alf_fee_chg',\n",
       " 'ff_fee_chg',\n",
       " 'dmg_chg',\n",
       " 'schr_chg',\n",
       " 'vlf_chg',\n",
       " 'iva_chg',\n",
       " 'rpt_as_rev',\n",
       " 'other_chg',\n",
       " 'EST_TOTAL',\n",
       " 'GROSS_REVENUE']"
      ]
     },
     "execution_count": 9,
     "metadata": {},
     "output_type": "execute_result"
    }
   ],
   "source": [
    "dfrev=pd.concat([rev1,rev2])\n",
    "list(dfrev.columns)"
   ]
  },
  {
   "attachments": {},
   "cell_type": "markdown",
   "metadata": {},
   "source": [
    "Rev analysis"
   ]
  },
  {
   "cell_type": "code",
   "execution_count": 39,
   "metadata": {},
   "outputs": [
    {
     "data": {
      "text/html": [
       "<div>\n",
       "<style scoped>\n",
       "    .dataframe tbody tr th:only-of-type {\n",
       "        vertical-align: middle;\n",
       "    }\n",
       "\n",
       "    .dataframe tbody tr th {\n",
       "        vertical-align: top;\n",
       "    }\n",
       "\n",
       "    .dataframe thead th {\n",
       "        text-align: right;\n",
       "    }\n",
       "</style>\n",
       "<table border=\"1\" class=\"dataframe\">\n",
       "  <thead>\n",
       "    <tr style=\"text-align: right;\">\n",
       "      <th></th>\n",
       "      <th>BRAND</th>\n",
       "      <th>number</th>\n",
       "      <th>dbr_date</th>\n",
       "      <th>loc_out</th>\n",
       "      <th>veh_class</th>\n",
       "      <th>ECONOMICO</th>\n",
       "      <th>MODEL</th>\n",
       "      <th>rpt_as_rev</th>\n",
       "    </tr>\n",
       "  </thead>\n",
       "  <tbody>\n",
       "    <tr>\n",
       "      <th>0</th>\n",
       "      <td>HERTZ</td>\n",
       "      <td>F3190628</td>\n",
       "      <td>2022-01-28</td>\n",
       "      <td>ZCL50</td>\n",
       "      <td>NaN</td>\n",
       "      <td>TA1344</td>\n",
       "      <td>TAOS</td>\n",
       "      <td>94181.40</td>\n",
       "    </tr>\n",
       "    <tr>\n",
       "      <th>1</th>\n",
       "      <td>HERTZ</td>\n",
       "      <td>F3213300</td>\n",
       "      <td>2022-01-11</td>\n",
       "      <td>TUX50</td>\n",
       "      <td>C</td>\n",
       "      <td>AU1331</td>\n",
       "      <td>AVEOLS</td>\n",
       "      <td>10464.00</td>\n",
       "    </tr>\n",
       "    <tr>\n",
       "      <th>2</th>\n",
       "      <td>HERTZ</td>\n",
       "      <td>F3232425</td>\n",
       "      <td>2022-01-10</td>\n",
       "      <td>GDL50</td>\n",
       "      <td>C</td>\n",
       "      <td>AA1011</td>\n",
       "      <td>ATT SE A</td>\n",
       "      <td>2696.28</td>\n",
       "    </tr>\n",
       "    <tr>\n",
       "      <th>3</th>\n",
       "      <td>HERTZ</td>\n",
       "      <td>F3237477</td>\n",
       "      <td>2022-01-14</td>\n",
       "      <td>CAN50</td>\n",
       "      <td>D</td>\n",
       "      <td>VV1286</td>\n",
       "      <td>VENTO</td>\n",
       "      <td>58302.99</td>\n",
       "    </tr>\n",
       "    <tr>\n",
       "      <th>4</th>\n",
       "      <td>HERTZ</td>\n",
       "      <td>F3236562</td>\n",
       "      <td>2022-01-19</td>\n",
       "      <td>MEX51</td>\n",
       "      <td>C</td>\n",
       "      <td>PO1337</td>\n",
       "      <td>POLOCS</td>\n",
       "      <td>16292.56</td>\n",
       "    </tr>\n",
       "    <tr>\n",
       "      <th>5</th>\n",
       "      <td>HERTZ</td>\n",
       "      <td>F3240116</td>\n",
       "      <td>2022-01-08</td>\n",
       "      <td>CAN50</td>\n",
       "      <td>C6</td>\n",
       "      <td>CA1093</td>\n",
       "      <td>CAVALILT</td>\n",
       "      <td>51737.98</td>\n",
       "    </tr>\n",
       "    <tr>\n",
       "      <th>6</th>\n",
       "      <td>HERTZ</td>\n",
       "      <td>F3240523</td>\n",
       "      <td>2022-01-19</td>\n",
       "      <td>SLP60</td>\n",
       "      <td>C</td>\n",
       "      <td>AU1528</td>\n",
       "      <td>AVEOLS</td>\n",
       "      <td>19671.32</td>\n",
       "    </tr>\n",
       "    <tr>\n",
       "      <th>7</th>\n",
       "      <td>HERTZ</td>\n",
       "      <td>F3241969</td>\n",
       "      <td>2022-01-10</td>\n",
       "      <td>OAX50</td>\n",
       "      <td>C</td>\n",
       "      <td>VV1411</td>\n",
       "      <td>VENTOC</td>\n",
       "      <td>41521.23</td>\n",
       "    </tr>\n",
       "    <tr>\n",
       "      <th>8</th>\n",
       "      <td>HERTZ</td>\n",
       "      <td>F3243501</td>\n",
       "      <td>2022-01-08</td>\n",
       "      <td>MLM50</td>\n",
       "      <td>F</td>\n",
       "      <td>SE1001</td>\n",
       "      <td>SENTRA</td>\n",
       "      <td>13920.00</td>\n",
       "    </tr>\n",
       "    <tr>\n",
       "      <th>9</th>\n",
       "      <td>HERTZ</td>\n",
       "      <td>F3244497</td>\n",
       "      <td>2022-01-05</td>\n",
       "      <td>LEO50</td>\n",
       "      <td>NaN</td>\n",
       "      <td>B51139</td>\n",
       "      <td>BEAT5P</td>\n",
       "      <td>21036.34</td>\n",
       "    </tr>\n",
       "  </tbody>\n",
       "</table>\n",
       "</div>"
      ],
      "text/plain": [
       "   BRAND    number    dbr_date loc_out veh_class ECONOMICO     MODEL  \\\n",
       "0  HERTZ  F3190628  2022-01-28   ZCL50       NaN    TA1344      TAOS   \n",
       "1  HERTZ  F3213300  2022-01-11   TUX50         C    AU1331    AVEOLS   \n",
       "2  HERTZ  F3232425  2022-01-10   GDL50         C    AA1011  ATT SE A   \n",
       "3  HERTZ  F3237477  2022-01-14   CAN50         D    VV1286     VENTO   \n",
       "4  HERTZ  F3236562  2022-01-19   MEX51         C    PO1337    POLOCS   \n",
       "5  HERTZ  F3240116  2022-01-08   CAN50        C6    CA1093  CAVALILT   \n",
       "6  HERTZ  F3240523  2022-01-19   SLP60         C    AU1528    AVEOLS   \n",
       "7  HERTZ  F3241969  2022-01-10   OAX50         C    VV1411    VENTOC   \n",
       "8  HERTZ  F3243501  2022-01-08   MLM50         F    SE1001    SENTRA   \n",
       "9  HERTZ  F3244497  2022-01-05   LEO50       NaN    B51139    BEAT5P   \n",
       "\n",
       "   rpt_as_rev  \n",
       "0    94181.40  \n",
       "1    10464.00  \n",
       "2     2696.28  \n",
       "3    58302.99  \n",
       "4    16292.56  \n",
       "5    51737.98  \n",
       "6    19671.32  \n",
       "7    41521.23  \n",
       "8    13920.00  \n",
       "9    21036.34  "
      ]
     },
     "execution_count": 39,
     "metadata": {},
     "output_type": "execute_result"
    }
   ],
   "source": [
    "rev_part=pd.DataFrame(dfrev,columns=[\"BRAND\",\"number\",\"dbr_date\",\"loc_out\",\"veh_class\",\"ECONOMICO\",\"MODEL\",\"rpt_as_rev\"])\n",
    "rev_part.head(10)"
   ]
  },
  {
   "cell_type": "code",
   "execution_count": 40,
   "metadata": {},
   "outputs": [
    {
     "data": {
      "text/plain": [
       "BRAND         310369\n",
       "number        626432\n",
       "dbr_date      626432\n",
       "loc_out       626432\n",
       "veh_class     299629\n",
       "ECONOMICO     626432\n",
       "MODEL         626432\n",
       "rpt_as_rev    626432\n",
       "dtype: int64"
      ]
     },
     "execution_count": 40,
     "metadata": {},
     "output_type": "execute_result"
    }
   ],
   "source": [
    "rev_part.isna().any()\n",
    "rev_part.count()"
   ]
  },
  {
   "cell_type": "code",
   "execution_count": 44,
   "metadata": {},
   "outputs": [
    {
     "data": {
      "text/plain": [
       "BRAND          True\n",
       "number        False\n",
       "dbr_date      False\n",
       "loc_out       False\n",
       "veh_class     False\n",
       "ECONOMICO     False\n",
       "MODEL         False\n",
       "rpt_as_rev    False\n",
       "dtype: bool"
      ]
     },
     "execution_count": 44,
     "metadata": {},
     "output_type": "execute_result"
    }
   ],
   "source": [
    "values={\"Brand\":\"NA\",\"veh_class\": \"NA\"}\n",
    "rev_part=rev_part.fillna(value=values)\n",
    "rev_part.isnull().any()"
   ]
  },
  {
   "cell_type": "code",
   "execution_count": 94,
   "metadata": {},
   "outputs": [
    {
     "data": {
      "text/plain": [
       "'$3,670,838,007.27'"
      ]
     },
     "execution_count": 94,
     "metadata": {},
     "output_type": "execute_result"
    }
   ],
   "source": [
    "sum=rev_part[\"rpt_as_rev\"].sum()\n",
    "style(sum)\n",
    "#format(sum,\",.2f\")\n",
    "\n"
   ]
  },
  {
   "cell_type": "code",
   "execution_count": 113,
   "metadata": {},
   "outputs": [
    {
     "data": {
      "text/plain": [
       "BRAND\n",
       "DOLLAR      $190,763,306.49\n",
       "FIREFLY      $38,808,010.65\n",
       "HERTZ     $1,405,008,640.70\n",
       "THRIFTY     $215,174,455.61\n",
       "Name: rpt_as_rev, dtype: float64"
      ]
     },
     "execution_count": 113,
     "metadata": {},
     "output_type": "execute_result"
    }
   ],
   "source": [
    "grouped= rev_part[\"rpt_as_rev\"].groupby([rev_part[\"BRAND\"]]).sum()\n",
    "grouped"
   ]
  },
  {
   "cell_type": "code",
   "execution_count": 125,
   "metadata": {},
   "outputs": [
    {
     "ename": "TypeError",
     "evalue": "cannot unpack non-iterable float object",
     "output_type": "error",
     "traceback": [
      "\u001b[1;31m---------------------------------------------------------------------------\u001b[0m",
      "\u001b[1;31mTypeError\u001b[0m                                 Traceback (most recent call last)",
      "\u001b[1;32m<ipython-input-125-af69373f2813>\u001b[0m in \u001b[0;36m<module>\u001b[1;34m\u001b[0m\n\u001b[0;32m      2\u001b[0m \u001b[0mgrouped\u001b[0m\u001b[1;33m.\u001b[0m\u001b[0msort_values\u001b[0m\u001b[1;33m(\u001b[0m\u001b[0mascending\u001b[0m\u001b[1;33m=\u001b[0m\u001b[1;32mTrue\u001b[0m\u001b[1;33m)\u001b[0m\u001b[1;33m\u001b[0m\u001b[1;33m\u001b[0m\u001b[0m\n\u001b[0;32m      3\u001b[0m \u001b[1;33m\u001b[0m\u001b[0m\n\u001b[1;32m----> 4\u001b[1;33m \u001b[1;32mfor\u001b[0m \u001b[1;33m[\u001b[0m\u001b[0mk1\u001b[0m\u001b[1;33m,\u001b[0m\u001b[0mk2\u001b[0m\u001b[1;33m]\u001b[0m\u001b[1;33m,\u001b[0m \u001b[0mgrouped\u001b[0m \u001b[1;32min\u001b[0m \u001b[0mgrouped\u001b[0m\u001b[1;33m:\u001b[0m\u001b[1;33m\u001b[0m\u001b[1;33m\u001b[0m\u001b[0m\n\u001b[0m\u001b[0;32m      5\u001b[0m     \u001b[0mprint\u001b[0m\u001b[1;33m(\u001b[0m\u001b[0mk1\u001b[0m\u001b[1;33m,\u001b[0m\u001b[0mk2\u001b[0m\u001b[1;33m)\u001b[0m\u001b[1;33m\u001b[0m\u001b[1;33m\u001b[0m\u001b[0m\n",
      "\u001b[1;31mTypeError\u001b[0m: cannot unpack non-iterable float object"
     ]
    }
   ],
   "source": [
    "grouped= rev_part[\"rpt_as_rev\"].groupby([rev_part[\"BRAND\"],rev_part[\"MODEL\"]]).sum()\n",
    "grouped.sort_values(ascending=True)\n",
    "\n",
    "# working print with for the whole series.\n",
    "# for [k1,k2], grouped in grouped:\n",
    "  #  print(k1,k2)\n"
   ]
  }
 ],
 "metadata": {
  "kernelspec": {
   "display_name": "base",
   "language": "python",
   "name": "python3"
  },
  "language_info": {
   "codemirror_mode": {
    "name": "ipython",
    "version": 3
   },
   "file_extension": ".py",
   "mimetype": "text/x-python",
   "name": "python",
   "nbconvert_exporter": "python",
   "pygments_lexer": "ipython3",
   "version": "3.8.8"
  },
  "orig_nbformat": 4,
  "vscode": {
   "interpreter": {
    "hash": "ad2bdc8ecc057115af97d19610ffacc2b4e99fae6737bb82f5d7fb13d2f2c186"
   }
  }
 },
 "nbformat": 4,
 "nbformat_minor": 2
}
